{
 "cells": [
  {
   "cell_type": "markdown",
   "metadata": {},
   "source": [
    "# mastermind"
   ]
  },
  {
   "cell_type": "markdown",
   "metadata": {},
   "source": [
    "code exploration.\n",
    "solving the mastermind challenge\n",
    "2020 08 14\n",
    "\n"
   ]
  },
  {
   "cell_type": "code",
   "execution_count": 1,
   "metadata": {},
   "outputs": [],
   "source": [
    "from collections import Counter\n",
    "import itertools\n",
    "import random"
   ]
  },
  {
   "cell_type": "code",
   "execution_count": 2,
   "metadata": {},
   "outputs": [
    {
     "data": {
      "text/plain": [
       "[('a', 'a'), ('b', 'b'), ('z', 'b')]"
      ]
     },
     "execution_count": 2,
     "metadata": {},
     "output_type": "execute_result"
    }
   ],
   "source": [
    "true_seq = set('abc')\n",
    "guess_seq = set('abb')\n",
    "true_seq.intersection(guess_seq)\n",
    "# cannot do this with set arithmetic because sets do not preserve order and cannot handle repeated letters\n",
    "list('abz')\n",
    "list('abb')\n",
    "# use zip to link two lists\n",
    "[item for item in zip(list('abz'),list('abb'))]"
   ]
  },
  {
   "cell_type": "code",
   "execution_count": 3,
   "metadata": {},
   "outputs": [
    {
     "name": "stdout",
     "output_type": "stream",
     "text": [
      "[('R', 'W'), ('R', 'R'), ('W', 'B')]\n",
      "[False, True, False]\n",
      "there are 1 correct tokens in correct place\n",
      "guess contains: Counter({'R': 2, 'W': 1})\n",
      "true contains Counter({'W': 1, 'R': 1, 'B': 1})\n",
      "both contain Counter({'R': 1, 'W': 1})\n",
      "there are 2 tokens in common\n",
      "there are 1 correct tokens in wrong places\n"
     ]
    }
   ],
   "source": [
    "true_seq = 'WRB'\n",
    "guess_seq = 'RRW'\n",
    "\n",
    "pairs = zip(guess_seq, true_seq)\n",
    "print( [pair for pair in pairs])\n",
    "print([guess_token == true_token for guess_token, true_token in zip(guess_seq, true_seq)])\n",
    "num_hits = sum(guess_token == true_token\n",
    "           for guess_token, true_token\n",
    "           in zip(guess_seq, true_seq))\n",
    "print ('there are', num_hits, 'correct tokens in correct place')\n",
    "print('guess contains:', Counter(guess_seq))\n",
    "print('true contains', Counter(true_seq))\n",
    "print('both contain', (Counter(guess_seq) & Counter(true_seq))) \n",
    "print('there are', sum((Counter(guess_seq) & Counter(true_seq)).values()), \"tokens in common\")\n",
    "print('there are', sum((Counter(guess_seq) & Counter(true_seq)).values()) - num_hits, 'correct tokens in wrong places')\n"
   ]
  },
  {
   "cell_type": "code",
   "execution_count": 4,
   "metadata": {},
   "outputs": [],
   "source": [
    "def hits_and_misses(guess_seq, true_seq):\n",
    "    \"\"\"\n",
    "    computes the match score of the guessed sequence p, given the true sequence q.\n",
    "    :param guess_seq: a string containing guessed sequence guessed\n",
    "    :param true_seq: the target sequence\n",
    "    :return: the matches, a tuple of two integers:\n",
    "        num_hits: the number of correct tokens in correct places\n",
    "        num_misses: the number of correct tokens at wrong place in the sequence\n",
    "    \"\"\"\n",
    "    num_hits = sum(guess_token == true_token\n",
    "               for guess_token, true_token\n",
    "               in zip(guess_seq, true_seq))\n",
    "    num_misses = sum((Counter(guess_seq) & Counter(true_seq)).values()) - num_hits\n",
    "    return num_hits, num_misses\n"
   ]
  },
  {
   "cell_type": "code",
   "execution_count": 5,
   "metadata": {},
   "outputs": [
    {
     "name": "stdout",
     "output_type": "stream",
     "text": [
      "there are 216 possibilities\n",
      "('O', 'G', 'W')\n",
      "('G', 'O', 'B') ['W', 'R', 'B']\n",
      "(1, 0)\n",
      "[('R', 'R', 'B'), ('R', 'O', 'R'), ('R', 'O', 'O'), ('R', 'O', 'Y'), ('R', 'O', 'W'), ('R', 'Y', 'B'), ('R', 'B', 'B'), ('R', 'W', 'B'), ('O', 'O', 'R'), ('O', 'O', 'O'), ('O', 'O', 'Y'), ('O', 'O', 'W'), ('Y', 'R', 'B'), ('Y', 'O', 'R'), ('Y', 'O', 'O'), ('Y', 'O', 'Y'), ('Y', 'O', 'W'), ('Y', 'Y', 'B'), ('Y', 'B', 'B'), ('Y', 'W', 'B'), ('G', 'R', 'R'), ('G', 'R', 'Y'), ('G', 'R', 'G'), ('G', 'R', 'W'), ('G', 'Y', 'R'), ('G', 'Y', 'Y'), ('G', 'Y', 'G'), ('G', 'Y', 'W'), ('G', 'G', 'R'), ('G', 'G', 'Y'), ('G', 'G', 'G'), ('G', 'G', 'W'), ('G', 'W', 'R'), ('G', 'W', 'Y'), ('G', 'W', 'G'), ('G', 'W', 'W'), ('B', 'R', 'B'), ('B', 'Y', 'B'), ('B', 'B', 'B'), ('B', 'W', 'B'), ('W', 'R', 'B'), ('W', 'O', 'R'), ('W', 'O', 'O'), ('W', 'O', 'Y'), ('W', 'O', 'W'), ('W', 'Y', 'B'), ('W', 'B', 'B'), ('W', 'W', 'B')]\n",
      "48\n"
     ]
    }
   ],
   "source": [
    "len_sequence = len(true_seq)\n",
    "allowed_symbols = 'ROYGBW' # allowed colours in mastermind\n",
    "possible_sequences = list(itertools.product(allowed_symbols, repeat=len_sequence))\n",
    "print('there are', len(possible_sequences),'possibilities')\n",
    "# print(possible_sequences)\n",
    "print(random.choice(possible_sequences))\n",
    "guess_seq = random.choice(possible_sequences)\n",
    "print(guess_seq, [token for token in true_seq])\n",
    "print (hits_and_misses(guess_seq,true_seq))\n",
    "result = hits_and_misses(guess_seq,true_seq)\n",
    "print([sequence \n",
    "        for sequence \n",
    "        in possible_sequences \n",
    "        if hits_and_misses(guess_seq, sequence) == result])\n",
    "print(len([sequence \n",
    "        for sequence \n",
    "        in possible_sequences \n",
    "        if hits_and_misses(guess_seq, sequence) == result]))"
   ]
  },
  {
   "cell_type": "code",
   "execution_count": 6,
   "metadata": {},
   "outputs": [
    {
     "name": "stdout",
     "output_type": "stream",
     "text": [
      "choose 3 symbols from ROYGBW\n",
      "RRO\n"
     ]
    }
   ],
   "source": [
    "len_sequence = 3\n",
    "print('choose', len_sequence, 'symbols from', allowed_symbols)\n",
    "# print(allowed_symbols[random.randint(0, len_sequence-1)])\n",
    "hidden_sequence = \"\"\n",
    "for _ in range(len_sequence):\n",
    "    hidden_sequence += allowed_symbols[random.randint(0, len_sequence-1)]\n",
    "print(hidden_sequence)\n"
   ]
  },
  {
   "cell_type": "code",
   "execution_count": 7,
   "metadata": {},
   "outputs": [
    {
     "name": "stdout",
     "output_type": "stream",
     "text": [
      "secret: RRY\n",
      "216 possibilities remaining\n",
      "guessing: ('G', 'O', 'O') score: (0, 0)\n",
      "64 possibilities remaining\n",
      "guessing: ('B', 'B', 'Y') score: (1, 0)\n",
      "17 possibilities remaining\n",
      "guessing: ('Y', 'W', 'Y') score: (1, 0)\n",
      "3 possibilities remaining\n",
      "guessing: ('B', 'W', 'W') score: (0, 0)\n",
      "[('R', 'R', 'Y')] (3, 0) RRY\n"
     ]
    }
   ],
   "source": [
    "allowed_symbols = 'ROYGBW' # allowed colours in mastermind\n",
    "# true_seq = 'WRB' # random target\n",
    "secret_sequence = \"\"\n",
    "for _ in range(len_sequence):\n",
    "    secret_sequence += allowed_symbols[random.randint(0, len_sequence-1)]\n",
    "print('secret:', secret_sequence)\n",
    "\n",
    "possible_sequences = list(itertools.product(allowed_symbols, repeat=len_sequence))\n",
    "\n",
    "\n",
    "maximum_iterations = 15\n",
    "for _ in range(maximum_iterations):\n",
    "    if len(possible_sequences) > 1:\n",
    "        print(len(possible_sequences), 'possibilities remaining')\n",
    "        guess_seq = random.choice(possible_sequences)\n",
    "        result = hits_and_misses(secret_sequence, guess_seq)\n",
    "        print('guessing:', guess_seq, 'score:', result)\n",
    "        possible_sequences = [\n",
    "            sequence \n",
    "            for sequence \n",
    "            in possible_sequences \n",
    "            if hits_and_misses(guess_seq, sequence) == result\n",
    "        ]\n",
    "    else:\n",
    "        break\n",
    "\n",
    "print(possible_sequences, hits_and_misses(possible_sequences[0], secret_sequence), secret_sequence)"
   ]
  },
  {
   "cell_type": "code",
   "execution_count": 8,
   "metadata": {},
   "outputs": [
    {
     "name": "stdout",
     "output_type": "stream",
     "text": [
      "secret: 3131\n",
      "10000 possibilities remaining\n",
      "guessing: ('7', '3', '0', '4') score: (0, 1)\n",
      "3048 possibilities remaining\n",
      "guessing: ('8', '7', '9', '7') score: (0, 0)\n",
      "732 possibilities remaining\n",
      "guessing: ('4', '5', '4', '2') score: (0, 0)\n",
      "76 possibilities remaining\n",
      "guessing: ('0', '1', '6', '1') score: (2, 0)\n",
      "11 possibilities remaining\n",
      "guessing: ('0', '0', '6', '6') score: (0, 0)\n",
      "3 possibilities remaining\n",
      "guessing: ('3', '1', '3', '1') score: (4, 0)\n",
      "[('3', '1', '3', '1')] (4, 0) 3131\n"
     ]
    }
   ],
   "source": [
    "len_sequence = 4\n",
    "allowed_symbols = '1234567890' # guess numeric sequence\n",
    "secret_sequence = \"\"\n",
    "for _ in range(len_sequence):\n",
    "    secret_sequence += allowed_symbols[random.randint(0, len_sequence-1)]\n",
    "print('secret:', secret_sequence)\n",
    "\n",
    "possible_sequences = list(itertools.product(allowed_symbols, repeat=len_sequence))\n",
    "\n",
    "\n",
    "maximum_iterations = 15\n",
    "for _ in range(maximum_iterations):\n",
    "    if len(possible_sequences) > 1:\n",
    "        print(len(possible_sequences), 'possibilities remaining')\n",
    "        guess_seq = random.choice(possible_sequences)\n",
    "        result = hits_and_misses(secret_sequence, guess_seq)\n",
    "        print('guessing:', guess_seq, 'score:', result)\n",
    "        possible_sequences = [\n",
    "            sequence \n",
    "            for sequence \n",
    "            in possible_sequences \n",
    "            if hits_and_misses(guess_seq, sequence) == result\n",
    "        ]\n",
    "    else:\n",
    "        break\n",
    "\n",
    "print(possible_sequences, hits_and_misses(possible_sequences[0], secret_sequence), secret_sequence)"
   ]
  },
  {
   "cell_type": "code",
   "execution_count": 9,
   "metadata": {},
   "outputs": [
    {
     "name": "stdout",
     "output_type": "stream",
     "text": [
      "target sequence contains ['R', 'B', 'G'] which is/are not among allowed tokens: ['1', '2', '3', '4', '5', '6', '7', '8', '9', '0']\n"
     ]
    }
   ],
   "source": [
    "allowed_symbols = '1234567890' # guess numeric sequence\n",
    "secret_sequence = 'RBG'\n",
    "\n",
    "if any(symbol not in allowed_symbols for symbol in secret_sequence):\n",
    "    print('target sequence contains', \n",
    "          [symbol for symbol in secret_sequence if symbol not in allowed_symbols],\n",
    "          'which is/are not among allowed tokens:', list(allowed_symbols)\n",
    "         )"
   ]
  },
  {
   "cell_type": "code",
   "execution_count": 26,
   "metadata": {},
   "outputs": [],
   "source": [
    "def brute_force_solver(allowed_symbols, secret_sequence, maximum_iterations=100, verbose=True):\n",
    "    \"\"\"\n",
    "    plays a game of mastermind and prints the result\n",
    "    :param symbols: a string containing all the allowed symbols with no delimeter (no spaces).\n",
    "    :param hidden_sequence: a string containing the sequence to guess.\n",
    "    :return: discovered sequence\n",
    "    \"\"\"\n",
    "    # number of tokens in the sequence to guess:\n",
    "    len_sequence = len(secret_sequence)\n",
    "    # generate all possible guesses\n",
    "    possible_sequences = list(itertools.product(allowed_symbols, repeat=len_sequence))\n",
    "    if verbose:\n",
    "        print(\"there are\", len(possible_sequences), 'possible sequences.')\n",
    "\n",
    "    # verify that a solution can be found.\n",
    "    if tuple(secret_sequence) in possible_sequences:\n",
    "        # brute force solver.\n",
    "        # 1. randomly select one of the remaining possibilities as the current guess.\n",
    "        # 2. compute match-score for given guess.\n",
    "        # 3. remove all sequnces that match differently than the guess from list of possible sequences\n",
    "        # 4. repeat until either: 1) only one possible sequence remains or 2) maximum number of iteration reached\n",
    "        for _ in range(maximum_iterations):\n",
    "            if len(possible_sequences) > 1:\n",
    "                print(len(possible_sequences), 'possibilities remaining')\n",
    "                guess_seq = random.choice(possible_sequences)\n",
    "                result = hits_and_misses(secret_sequence, guess_seq)\n",
    "                print('guessing:', guess_seq, 'matches:', result)\n",
    "                possible_sequences = [\n",
    "                    sequence \n",
    "                    for sequence \n",
    "                    in possible_sequences \n",
    "                    if hits_and_misses(guess_seq, sequence) == result\n",
    "                ]\n",
    "            else:\n",
    "                break\n",
    "            \n",
    "        if len(possible_sequences) != 1:\n",
    "            print ('failed to find solution in', maximum_iterations,\n",
    "                   'narrowed it down to', len(possible_sequences), \"options\")\n",
    "        elif verbose:\n",
    "            print(possible_sequences, hits_and_misses(possible_sequences[0], secret_sequence))\n",
    "    else:\n",
    "        # something has gone wrong:\n",
    "#         print(secret_sequence)\n",
    "#         print(possible_sequences)\n",
    "        print('error! target sequence contains',\n",
    "              [symbol for symbol in secret_sequence if symbol not in allowed_symbols],\n",
    "              'which is/are not among allowed tokens:', list(allowed_symbols)\n",
    "         )\n",
    "    return possible_sequences[0]\n"
   ]
  },
  {
   "cell_type": "code",
   "execution_count": 11,
   "metadata": {},
   "outputs": [
    {
     "name": "stdout",
     "output_type": "stream",
     "text": [
      "------------------------------------------------------------\n",
      "there are 216 possible sequences.\n",
      "216 possibilities remaining\n",
      "guessing: ('R', 'O', 'Y') matches: (1, 0)\n",
      "48 possibilities remaining\n",
      "guessing: ('R', 'B', 'G') matches: (1, 0)\n",
      "10 possibilities remaining\n",
      "guessing: ('B', 'B', 'Y') matches: (0, 0)\n",
      "7 possibilities remaining\n",
      "guessing: ('G', 'O', 'G') matches: (0, 0)\n",
      "4 possibilities remaining\n",
      "guessing: ('R', 'R', 'R') matches: (2, 0)\n",
      "2 possibilities remaining\n",
      "guessing: ('R', 'W', 'R') matches: (1, 2)\n",
      "[('R', 'R', 'W')] (3, 0)\n",
      "------------------------------------------------------------\n",
      "there are 10000 possible sequences.\n",
      "error! target sequence contains ['R', 'R', 'W', 'B'] which is/are not among allowed tokens: ['1', '2', '3', '4', '5', '6', '7', '8', '9', '0']\n",
      "------------------------------------------------------------\n",
      "CPU times: user 4.13 ms, sys: 762 µs, total: 4.89 ms\n",
      "Wall time: 4.29 ms\n"
     ]
    }
   ],
   "source": [
    "%%time\n",
    "print('-'*60)\n",
    "brute_force_solver('ROYGBW', 'RRW')\n",
    "print('-'*60)\n",
    "brute_force_solver('1234567890', 'RRWB')\n",
    "print('-'*60)"
   ]
  },
  {
   "cell_type": "code",
   "execution_count": 12,
   "metadata": {},
   "outputs": [
    {
     "name": "stdout",
     "output_type": "stream",
     "text": [
      "------------------------------------------------------------\n",
      "there are 10000000 possible sequences.\n",
      "10000000 possibilities remaining\n",
      "guessing: ('4', '3', '9', '0', '8', '5', '8') matches: (2, 2)\n",
      "483700 possibilities remaining\n",
      "guessing: ('9', '6', '9', '0', '3', '4', '9') matches: (3, 2)\n",
      "4480 possibilities remaining\n",
      "guessing: ('7', '9', '9', '0', '0', '4', '3') matches: (2, 3)\n",
      "679 possibilities remaining\n",
      "guessing: ('0', '8', '9', '0', '9', '3', '9') matches: (1, 3)\n",
      "65 possibilities remaining\n",
      "guessing: ('9', '3', '0', '0', '6', '4', '0') matches: (4, 0)\n",
      "13 possibilities remaining\n",
      "guessing: ('9', '3', '9', '1', '2', '4', '0') matches: (5, 2)\n",
      "[('9', '3', '9', '2', '1', '4', '0')] (7, 0)\n",
      "------------------------------------------------------------\n",
      "CPU times: user 1min 14s, sys: 506 ms, total: 1min 14s\n",
      "Wall time: 1min 14s\n"
     ]
    }
   ],
   "source": [
    "%%time\n",
    "# warning! this might take a while (10 million invocation of scoring function!)\n",
    "print('-'*60)\n",
    "brute_force_solver('1234567890', '9392140')\n",
    "print('-'*60)"
   ]
  },
  {
   "cell_type": "code",
   "execution_count": 27,
   "metadata": {},
   "outputs": [],
   "source": [
    "def test_solver(allowed_symbols, len_sequence=3):\n",
    "    \"\"\"\n",
    "    function to test the above function and apply them for a game of mastermind.\n",
    "    :param symbols: a string containing all allowed symbols, without delimeter (no spaces), and no repeats\n",
    "    :param len_sequence: an integer indicating the number of symbols in the hidden sequence to guess.\n",
    "    :return: the discovered solution, and the hidden sequence.\n",
    "    \"\"\"\n",
    "    secret_sequence = \"\"\n",
    "    for _ in range(len_sequence):\n",
    "        secret_sequence += allowed_symbols[random.randint(0, len_sequence - 1)]\n",
    "    print('secret:', secret_sequence)\n",
    "\n",
    "    solution = brute_force_solver(allowed_symbols, secret_sequence)\n",
    "    return solution == tuple(secret_sequence)\n"
   ]
  },
  {
   "cell_type": "code",
   "execution_count": 28,
   "metadata": {},
   "outputs": [
    {
     "name": "stdout",
     "output_type": "stream",
     "text": [
      "secret: 1343\n",
      "there are 10000 possible sequences.\n",
      "10000 possibilities remaining\n",
      "guessing: ('0', '8', '6', '9') matches: (0, 0)\n",
      "1296 possibilities remaining\n",
      "guessing: ('2', '2', '3', '7') matches: (0, 1)\n",
      "276 possibilities remaining\n",
      "guessing: ('3', '5', '5', '1') matches: (0, 2)\n",
      "42 possibilities remaining\n",
      "guessing: ('1', '7', '4', '5') matches: (2, 0)\n",
      "7 possibilities remaining\n",
      "guessing: ('1', '1', '2', '5') matches: (1, 0)\n",
      "5 possibilities remaining\n",
      "guessing: ('1', '4', '4', '3') matches: (3, 0)\n",
      "[('1', '3', '4', '3')] (4, 0)\n",
      "('1', '3', '4', '3') <class 'tuple'>\n",
      "1343 <class 'str'>\n"
     ]
    },
    {
     "data": {
      "text/plain": [
       "True"
      ]
     },
     "execution_count": 28,
     "metadata": {},
     "output_type": "execute_result"
    }
   ],
   "source": [
    "test_solver('1234567890', 4)"
   ]
  },
  {
   "cell_type": "code",
   "execution_count": 45,
   "metadata": {},
   "outputs": [],
   "source": [
    "def test_solver_2(allowed_symbols, len_sequence=3):\n",
    "    \"\"\"\n",
    "    function to test the above function and apply them for a game of mastermind.\n",
    "    :param symbols: a string containing all allowed symbols, without delimeter (no spaces), and no repeats\n",
    "    :param len_sequence: an integer indicating the number of symbols in the hidden sequence to guess.\n",
    "    :return: the discovered solution, and the hidden sequence.\n",
    "    \"\"\"\n",
    "    secret_sequence = tuple()\n",
    "    for _ in range(len_sequence):\n",
    "        secret_sequence += tuple(allowed_symbols[random.randint(0, len_sequence - 1)])\n",
    "    print('secret:', secret_sequence)\n",
    "\n",
    "    solution = brute_force_solver(allowed_symbols, secret_sequence)\n",
    "    return solution == tuple(secret_sequence)\n",
    "\n"
   ]
  },
  {
   "cell_type": "code",
   "execution_count": 46,
   "metadata": {},
   "outputs": [
    {
     "name": "stdout",
     "output_type": "stream",
     "text": [
      "secret: ('4', '4', '4', '1')\n",
      "there are 10000 possible sequences.\n",
      "10000 possibilities remaining\n",
      "guessing: ('4', '9', '2', '1') matches: (2, 0)\n",
      "384 possibilities remaining\n",
      "guessing: ('6', '8', '2', '1') matches: (1, 0)\n",
      "144 possibilities remaining\n",
      "guessing: ('4', '5', '2', '3') matches: (1, 0)\n",
      "32 possibilities remaining\n",
      "guessing: ('4', '0', '0', '1') matches: (2, 0)\n",
      "9 possibilities remaining\n",
      "guessing: ('4', '7', '1', '1') matches: (2, 0)\n",
      "[('4', '4', '4', '1')] (4, 0)\n"
     ]
    },
    {
     "data": {
      "text/plain": [
       "True"
      ]
     },
     "execution_count": 46,
     "metadata": {},
     "output_type": "execute_result"
    }
   ],
   "source": [
    "test_solver_2('1234567890', 4)"
   ]
  },
  {
   "cell_type": "code",
   "execution_count": null,
   "metadata": {},
   "outputs": [],
   "source": []
  },
  {
   "cell_type": "code",
   "execution_count": null,
   "metadata": {},
   "outputs": [],
   "source": []
  },
  {
   "cell_type": "code",
   "execution_count": null,
   "metadata": {},
   "outputs": [],
   "source": []
  },
  {
   "cell_type": "code",
   "execution_count": null,
   "metadata": {},
   "outputs": [],
   "source": []
  },
  {
   "cell_type": "code",
   "execution_count": null,
   "metadata": {},
   "outputs": [],
   "source": []
  },
  {
   "cell_type": "code",
   "execution_count": null,
   "metadata": {},
   "outputs": [],
   "source": []
  },
  {
   "cell_type": "code",
   "execution_count": 13,
   "metadata": {},
   "outputs": [
    {
     "name": "stdout",
     "output_type": "stream",
     "text": [
      "[('R', 'W'), ('R', 'R'), ('W', 'B')]\n",
      "[False, True, False]\n",
      "there are 1 hits\n",
      "guess contains: Counter({'R': 2, 'W': 1})\n",
      "true contains Counter({'W': 1, 'R': 1, 'B': 1})\n",
      "both contain Counter({'R': 1, 'W': 1})\n",
      "there are 2 tokens in common\n",
      "there are 1 misses\n"
     ]
    }
   ],
   "source": [
    "guess_seq = ('R', 'R', 'W')\n",
    "true_seq = 'WRB'\n",
    "print( [x for x in zip(guess_seq, true_seq)])\n",
    "print([guess_token == true_token for guess_token, true_token in zip(guess_seq, true_seq)])\n",
    "num_hits = sum(guess_token == true_token\n",
    "           for guess_token, true_token\n",
    "           in zip(guess_seq, true_seq))\n",
    "print ('there are', num_hits, 'hits')\n",
    "print('guess contains:', Counter(guess_seq))\n",
    "print('true contains', Counter(true_seq))\n",
    "print('both contain', (Counter(guess_seq) & Counter(true_seq))) \n",
    "print('there are', sum((Counter(guess_seq) & Counter(true_seq)).values()), \"tokens in common\")\n",
    "print('there are', sum((Counter(guess_seq) & Counter(true_seq)).values()) - num_hits, 'misses')"
   ]
  },
  {
   "cell_type": "code",
   "execution_count": 38,
   "metadata": {},
   "outputs": [
    {
     "data": {
      "text/plain": [
       "()"
      ]
     },
     "execution_count": 38,
     "metadata": {},
     "output_type": "execute_result"
    }
   ],
   "source": [
    "a = ()\n",
    "a"
   ]
  },
  {
   "cell_type": "code",
   "execution_count": 39,
   "metadata": {},
   "outputs": [
    {
     "data": {
      "text/plain": [
       "tuple"
      ]
     },
     "execution_count": 39,
     "metadata": {},
     "output_type": "execute_result"
    }
   ],
   "source": [
    "type(a)"
   ]
  },
  {
   "cell_type": "code",
   "execution_count": 42,
   "metadata": {},
   "outputs": [
    {
     "data": {
      "text/plain": [
       "('4', '4', '4')"
      ]
     },
     "execution_count": 42,
     "metadata": {},
     "output_type": "execute_result"
    }
   ],
   "source": [
    "a += tuple('4')\n",
    "a"
   ]
  },
  {
   "cell_type": "code",
   "execution_count": 44,
   "metadata": {},
   "outputs": [
    {
     "data": {
      "text/plain": [
       "('4', '4', '4')"
      ]
     },
     "execution_count": 44,
     "metadata": {},
     "output_type": "execute_result"
    }
   ],
   "source": [
    "tuple(a)"
   ]
  },
  {
   "cell_type": "code",
   "execution_count": null,
   "metadata": {},
   "outputs": [],
   "source": []
  }
 ],
 "metadata": {
  "kernelspec": {
   "display_name": "Python 3",
   "language": "python",
   "name": "python3"
  },
  "language_info": {
   "codemirror_mode": {
    "name": "ipython",
    "version": 3
   },
   "file_extension": ".py",
   "mimetype": "text/x-python",
   "name": "python",
   "nbconvert_exporter": "python",
   "pygments_lexer": "ipython3",
   "version": "3.8.5"
  }
 },
 "nbformat": 4,
 "nbformat_minor": 4
}
