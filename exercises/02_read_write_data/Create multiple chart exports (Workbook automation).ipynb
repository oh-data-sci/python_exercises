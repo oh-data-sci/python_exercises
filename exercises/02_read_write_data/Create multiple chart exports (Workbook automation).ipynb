{
 "cells": [
  {
   "cell_type": "markdown",
   "metadata": {},
   "source": [
    "## PETER'S NOTES\n",
    "\n",
    "* Difficult things:\n",
    "    * Reading kwargs\n",
    "    * Turning the exports into a format the API SDK can understand"
   ]
  },
  {
   "cell_type": "code",
   "execution_count": 2,
   "metadata": {},
   "outputs": [],
   "source": [
    "import logging\n",
    "logger = logging.getLogger(\"bwapi\")\n",
    "# Disable logging\n",
    "logger.setLevel(logging.CRITICAL)\n",
    "\n",
    "from bwproject import *\n",
    "from bwresources import BWQueries, BWGroups\n",
    "\n",
    "import datetime\n",
    "\n",
    "import pandas as pd"
   ]
  },
  {
   "cell_type": "code",
   "execution_count": 3,
   "metadata": {},
   "outputs": [],
   "source": [
    "YOUR_ACCOUNT = \"3mRSAPI@example.com\"\n",
    "YOUR_PASSWORD = \"6782378342ygewry\"\n",
    "YOUR_PROJECT = \"3M Ad-Hoc\"\n",
    "\n",
    "project = BWProject(username=YOUR_ACCOUNT, password=YOUR_PASSWORD, project=YOUR_PROJECT)"
   ]
  },
  {
   "cell_type": "code",
   "execution_count": 4,
   "metadata": {},
   "outputs": [],
   "source": [
    "queries = BWQueries(project)\n",
    "groups = BWGroups(project)"
   ]
  },
  {
   "cell_type": "code",
   "execution_count": 10,
   "metadata": {},
   "outputs": [],
   "source": [
    "MyChart = queries.get_chart(\n",
    "    name=\"[CBG] Scotch-Brite: Spring Cleaning\", \n",
    "    startDate=\"2017-09-01\", \n",
    "    y_axis=\"volume\", \n",
    "    x_axis=\"days\", \n",
    "    breakdown_by=\"queries\")"
   ]
  },
  {
   "cell_type": "markdown",
   "metadata": {},
   "source": [
    "# Input date ranges\n",
    "### Use this format: \"YYYY-MM-DD\", e.g. \"2017-09-01\""
   ]
  },
  {
   "cell_type": "code",
   "execution_count": 5,
   "metadata": {},
   "outputs": [],
   "source": [
    "ThisQuarterStart = \"2017-09-01\"\n",
    "ThisQuarterEnd = \"2018-01-01\"\n",
    "LastQuarterStart = \"2017-06-01\"\n",
    "LastQuarterEnd = \"2017-09-01\""
   ]
  },
  {
   "cell_type": "markdown",
   "metadata": {},
   "source": [
    "# Define the functions that are going to create exports\n",
    "## e.g. charts, topic clouds, etc."
   ]
  },
  {
   "cell_type": "code",
   "execution_count": 6,
   "metadata": {},
   "outputs": [],
   "source": [
    "# def GetChart(**kwargs):\n",
    "#     queries.get_chart(\n",
    "#     name=kwargs['Fname'], \n",
    "#     startDate=kwargs['FstartDate'],\n",
    "#     endDate=kwargs['FendDate'], \n",
    "#     y_axis=kwargs['Fy_axis'], \n",
    "#     x_axis=kwargs['Fx_axis'], \n",
    "#     breakdown_by=kwargs['Fbreakdown_by'])"
   ]
  },
  {
   "cell_type": "code",
   "execution_count": 7,
   "metadata": {},
   "outputs": [],
   "source": [
    "# def GetThisQuarterChart(**kwargs):\n",
    "#     queries.get_chart(\n",
    "#     name=kwargs['Fname'], \n",
    "#     startDate=kwargs['FstartDate'],\n",
    "#     endDate=kwargs['FendDate'], \n",
    "#     y_axis=kwargs['Fy_axis'], \n",
    "#     x_axis=kwargs['Fx_axis'], \n",
    "#     breakdown_by=kwargs['Fbreakdown_by'])"
   ]
  },
  {
   "cell_type": "code",
   "execution_count": 14,
   "metadata": {},
   "outputs": [
    {
     "name": "stdout",
     "output_type": "stream",
     "text": [
      "name [CBG] Scotch-Brite: Spring Cleaning\n",
      "startDate 2017-09-01\n",
      "endDate 2018-01-01\n",
      "y_axis volume\n",
      "x_axis days\n",
      "breakdown_by queries\n"
     ]
    }
   ],
   "source": [
    "def table_into_chart(**kwargs):\n",
    "    for each_key in kwargs:\n",
    "        print(each_key, kwargs[each_key])\n",
    "\n",
    "        \n",
    "ThisQuarterVolume = table_into_chart(\n",
    "    name=\"[CBG] Scotch-Brite: Spring Cleaning\", \n",
    "    startDate=ThisQuarterStart,\n",
    "    endDate =ThisQuarterEnd, \n",
    "    y_axis=\"volume\", \n",
    "    x_axis=\"days\", \n",
    "    breakdown_by=\"queries\")"
   ]
  },
  {
   "cell_type": "code",
   "execution_count": 15,
   "metadata": {},
   "outputs": [
    {
     "ename": "SyntaxError",
     "evalue": "invalid syntax (<ipython-input-15-c057f94aef60>, line 6)",
     "output_type": "error",
     "traceback": [
      "\u001b[0;36m  File \u001b[0;32m\"<ipython-input-15-c057f94aef60>\"\u001b[0;36m, line \u001b[0;32m6\u001b[0m\n\u001b[0;31m    ThisQuarterVolume = table_into_chart{\u001b[0m\n\u001b[0m                                        ^\u001b[0m\n\u001b[0;31mSyntaxError\u001b[0m\u001b[0;31m:\u001b[0m invalid syntax\n"
     ]
    }
   ],
   "source": [
    "def table_into_chart(dict):\n",
    "    for each_key in kwargs:\n",
    "        print(each_key, kwargs[each_key])\n",
    "\n",
    "        \n",
    "ThisQuarterVolume = {\n",
    "    name:\"[CBG] Scotch-Brite: Spring Cleaning\", \n",
    "    startDate:ThisQuarterStart,\n",
    "    endDate:ThisQuarterEnd, \n",
    "    y_axis:\"volume\", \n",
    "    x_axis:\"days\", \n",
    "    breakdown_by:\"queries\"}\n",
    "\n",
    "# table_into_chart "
   ]
  },
  {
   "cell_type": "code",
   "execution_count": 8,
   "metadata": {},
   "outputs": [],
   "source": [
    "# def ArgsGetChart(*Args):\n",
    "#     queries.get_chart(Unpack(Args))"
   ]
  },
  {
   "cell_type": "code",
   "execution_count": 9,
   "metadata": {},
   "outputs": [],
   "source": [
    "def ArgsGetChart(*Args):\n",
    "    queries.get_chart(Args)"
   ]
  },
  {
   "cell_type": "code",
   "execution_count": null,
   "metadata": {},
   "outputs": [],
   "source": []
  },
  {
   "cell_type": "markdown",
   "metadata": {},
   "source": [
    "# Use the functions defined above to get the exports"
   ]
  },
  {
   "cell_type": "code",
   "execution_count": 26,
   "metadata": {},
   "outputs": [],
   "source": [
    "ThisQuarterVolume = GetChart(\n",
    "    Fname=\"[CBG] Scotch-Brite: Spring Cleaning\", \n",
    "    FstartDate=ThisQuarterStart,\n",
    "    FendDate =ThisQuarterEnd, \n",
    "    Fy_axis=\"volume\", \n",
    "    Fx_axis=\"days\", \n",
    "    Fbreakdown_by=\"queries\")"
   ]
  },
  {
   "cell_type": "code",
   "execution_count": null,
   "metadata": {},
   "outputs": [],
   "source": [
    "ThisQuarterVolume = GetChart(\n",
    "    Fname=\"[CBG] Scotch-Brite: Spring Cleaning\", \n",
    "    FstartDate=ThisQuarterStart,\n",
    "    FendDate =ThisQuarterEnd, \n",
    "    Fy_axis=\"volume\", \n",
    "    Fx_axis=\"days\", \n",
    "    Fbreakdown_by=\"queries\")"
   ]
  },
  {
   "cell_type": "code",
   "execution_count": 10,
   "metadata": {},
   "outputs": [
    {
     "ename": "NameError",
     "evalue": "name 'name' is not defined",
     "output_type": "error",
     "traceback": [
      "\u001b[0;31m---------------------------------------------------------------------------\u001b[0m",
      "\u001b[0;31mNameError\u001b[0m                                 Traceback (most recent call last)",
      "\u001b[0;32m<ipython-input-10-84706ac7ef9f>\u001b[0m in \u001b[0;36m<module>\u001b[0;34m()\u001b[0m\n\u001b[1;32m      1\u001b[0m ThisQuarterVolume = ArgsGetChart({\n\u001b[0;32m----> 2\u001b[0;31m     \u001b[0mname\u001b[0m\u001b[0;34m:\u001b[0m\u001b[0;34m\"[CBG] Scotch-Brite: Spring Cleaning\"\u001b[0m\u001b[0;34m,\u001b[0m\u001b[0;34m\u001b[0m\u001b[0m\n\u001b[0m\u001b[1;32m      3\u001b[0m     \u001b[0mstartDate\u001b[0m\u001b[0;34m:\u001b[0m\u001b[0mThisQuarterStart\u001b[0m\u001b[0;34m,\u001b[0m\u001b[0;34m\u001b[0m\u001b[0m\n\u001b[1;32m      4\u001b[0m     \u001b[0mendDate\u001b[0m\u001b[0;34m:\u001b[0m\u001b[0mThisQuarterEnd\u001b[0m\u001b[0;34m,\u001b[0m\u001b[0;34m\u001b[0m\u001b[0m\n\u001b[1;32m      5\u001b[0m     \u001b[0my_axis\u001b[0m\u001b[0;34m:\u001b[0m\u001b[0;34m\"volume\"\u001b[0m\u001b[0;34m,\u001b[0m\u001b[0;34m\u001b[0m\u001b[0m\n",
      "\u001b[0;31mNameError\u001b[0m: name 'name' is not defined"
     ]
    }
   ],
   "source": []
  },
  {
   "cell_type": "code",
   "execution_count": null,
   "metadata": {},
   "outputs": [],
   "source": []
  },
  {
   "cell_type": "code",
   "execution_count": null,
   "metadata": {},
   "outputs": [],
   "source": []
  },
  {
   "cell_type": "code",
   "execution_count": 7,
   "metadata": {},
   "outputs": [],
   "source": [
    "# print(MyChart)"
   ]
  },
  {
   "cell_type": "code",
   "execution_count": 15,
   "metadata": {},
   "outputs": [
    {
     "name": "stdout",
     "output_type": "stream",
     "text": [
      "dimension1\n",
      "dimension2\n",
      "aggregate\n",
      "results\n"
     ]
    }
   ],
   "source": [
    "for EachKey in MyChart:\n",
    "    print(EachKey)"
   ]
  },
  {
   "cell_type": "code",
   "execution_count": 31,
   "metadata": {},
   "outputs": [
    {
     "name": "stdout",
     "output_type": "stream",
     "text": [
      "2017-09-01 : 402\n",
      "2017-09-02 : 288\n",
      "2017-09-03 : 250\n",
      "2017-09-04 : 262\n",
      "2017-09-05 : 230\n",
      "2017-09-06 : 221\n",
      "2017-09-07 : 192\n",
      "2017-09-08 : 217\n",
      "2017-09-09 : 327\n",
      "2017-09-10 : 259\n",
      "2017-09-11 : 201\n",
      "2017-09-12 : 218\n",
      "2017-09-13 : 187\n",
      "2017-09-14 : 183\n",
      "2017-09-15 : 177\n",
      "2017-09-16 : 200\n",
      "2017-09-17 : 219\n",
      "2017-09-18 : 270\n",
      "2017-09-19 : 198\n",
      "2017-09-20 : 198\n",
      "2017-09-21 : 224\n",
      "2017-09-22 : 201\n",
      "2017-09-23 : 217\n",
      "2017-09-24 : 208\n",
      "2017-09-25 : 188\n",
      "2017-09-26 : 193\n",
      "2017-09-27 : 187\n",
      "2017-09-28 : 201\n",
      "2017-09-29 : 193\n",
      "2017-09-30 : 184\n",
      "2017-10-01 : 201\n",
      "2017-10-02 : 206\n",
      "2017-10-03 : 168\n",
      "2017-10-04 : 165\n",
      "2017-10-05 : 156\n",
      "2017-10-06 : 146\n",
      "2017-10-07 : 165\n",
      "2017-10-08 : 186\n",
      "2017-10-09 : 164\n",
      "2017-10-10 : 163\n",
      "2017-10-11 : 148\n",
      "2017-10-12 : 142\n",
      "2017-10-13 : 135\n",
      "2017-10-14 : 156\n",
      "2017-10-15 : 188\n",
      "2017-10-16 : 181\n",
      "2017-10-17 : 155\n",
      "2017-10-18 : 158\n",
      "2017-10-19 : 156\n",
      "2017-10-20 : 156\n",
      "2017-10-21 : 158\n",
      "2017-10-22 : 192\n",
      "2017-10-23 : 164\n",
      "2017-10-24 : 145\n",
      "2017-10-25 : 144\n",
      "2017-10-26 : 135\n",
      "2017-10-27 : 138\n",
      "2017-10-28 : 145\n",
      "2017-10-29 : 156\n",
      "2017-10-30 : 146\n",
      "2017-10-31 : 114\n",
      "2017-11-01 : 131\n",
      "2017-11-02 : 166\n",
      "2017-11-03 : 136\n",
      "2017-11-04 : 179\n",
      "2017-11-05 : 161\n",
      "2017-11-06 : 141\n",
      "2017-11-07 : 132\n",
      "2017-11-08 : 157\n",
      "2017-11-09 : 131\n",
      "2017-11-10 : 140\n",
      "2017-11-11 : 171\n",
      "2017-11-12 : 160\n",
      "2017-11-13 : 121\n",
      "2017-11-14 : 128\n",
      "2017-11-15 : 118\n",
      "2017-11-16 : 134\n",
      "2017-11-17 : 113\n",
      "2017-11-18 : 137\n",
      "2017-11-19 : 132\n",
      "2017-11-20 : 136\n",
      "2017-11-21 : 134\n",
      "2017-11-22 : 131\n",
      "2017-11-23 : 120\n",
      "2017-11-24 : 110\n",
      "2017-11-25 : 146\n",
      "2017-11-26 : 120\n",
      "2017-11-27 : 175\n",
      "2017-11-28 : 136\n",
      "2017-11-29 : 151\n",
      "2017-11-30 : 153\n",
      "2017-12-01 : 107\n",
      "2017-12-02 : 129\n",
      "2017-12-03 : 121\n",
      "2017-12-04 : 103\n",
      "2017-12-05 : 132\n",
      "2017-12-06 : 80\n",
      "2017-12-07 : 121\n",
      "2017-12-08 : 109\n",
      "2017-12-09 : 102\n",
      "2017-12-10 : 115\n",
      "2017-12-11 : 105\n",
      "2017-12-12 : 134\n",
      "2017-12-13 : 135\n",
      "2017-12-14 : 134\n",
      "2017-12-15 : 131\n",
      "2017-12-16 : 100\n",
      "2017-12-17 : 128\n",
      "2017-12-18 : 117\n",
      "2017-12-19 : 137\n",
      "2017-12-20 : 117\n",
      "2017-12-21 : 126\n",
      "2017-12-22 : 139\n",
      "2017-12-23 : 142\n",
      "2017-12-24 : 126\n",
      "2017-12-25 : 83\n",
      "2017-12-26 : 144\n",
      "2017-12-27 : 230\n",
      "2017-12-28 : 229\n",
      "2017-12-29 : 340\n",
      "2017-12-30 : 329\n",
      "2017-12-31 : 241\n",
      "2018-01-01 : 245\n",
      "2018-01-02 : 338\n",
      "2018-01-03 : 299\n",
      "2018-01-04 : 324\n",
      "2018-01-05 : 318\n",
      "2018-01-06 : 381\n",
      "2018-01-07 : 328\n",
      "2018-01-08 : 301\n",
      "2018-01-09 : 276\n",
      "2018-01-10 : 262\n",
      "2018-01-11 : 302\n",
      "2018-01-12 : 238\n",
      "2018-01-13 : 344\n",
      "2018-01-14 : 307\n",
      "2018-01-15 : 333\n",
      "2018-01-16 : 295\n",
      "2018-01-17 : 290\n",
      "2018-01-18 : 290\n",
      "2018-01-19 : 292\n",
      "2018-01-20 : 317\n",
      "2018-01-21 : 337\n",
      "2018-01-22 : 336\n",
      "2018-01-23 : 350\n",
      "2018-01-24 : 351\n",
      "2018-01-25 : 315\n",
      "2018-01-26 : 385\n",
      "2018-01-27 : 376\n",
      "2018-01-28 : 639\n",
      "2018-01-29 : 369\n",
      "2018-01-30 : 387\n",
      "2018-01-31 : 453\n",
      "2018-02-01 : 487\n",
      "2018-02-02 : 595\n",
      "2018-02-03 : 528\n",
      "2018-02-04 : 500\n",
      "2018-02-05 : 481\n",
      "2018-02-06 : 461\n",
      "2018-02-07 : 507\n",
      "2018-02-08 : 503\n",
      "2018-02-09 : 570\n",
      "2018-02-10 : 564\n",
      "2018-02-11 : 661\n",
      "2018-02-12 : 608\n",
      "2018-02-13 : 620\n",
      "2018-02-14 : 500\n",
      "2018-02-15 : 754\n",
      "2018-02-16 : 698\n",
      "2018-02-17 : 686\n",
      "2018-02-18 : 818\n",
      "2018-02-19 : 888\n",
      "2018-02-20 : 920\n",
      "2018-02-21 : 992\n",
      "2018-02-22 : 889\n",
      "2018-02-23 : 772\n",
      "2018-02-24 : 1123\n",
      "2018-02-25 : 967\n",
      "2018-02-26 : 1145\n",
      "2018-02-27 : 1200\n",
      "2018-02-28 : 1334\n",
      "2018-03-01 : 2235\n",
      "2018-03-02 : 1601\n",
      "2018-03-03 : 1574\n",
      "2018-03-04 : 1568\n",
      "2018-03-05 : 1798\n",
      "2018-03-06 : 1888\n",
      "2018-03-07 : 1655\n",
      "2018-03-08 : 1471\n",
      "2018-03-09 : 1650\n",
      "2018-03-10 : 1910\n",
      "2018-03-11 : 1845\n",
      "2018-03-12 : 2162\n",
      "2018-03-13 : 2219\n",
      "2018-03-14 : 2438\n",
      "2018-03-15 : 2220\n",
      "2018-03-16 : 2054\n",
      "2018-03-17 : 1927\n",
      "2018-03-18 : 2258\n",
      "2018-03-19 : 2976\n",
      "2018-03-20 : 6329\n",
      "2018-03-21 : 4755\n",
      "2018-03-22 : 3526\n",
      "2018-03-23 : 3285\n",
      "2018-03-24 : 3151\n",
      "2018-03-25 : 3020\n",
      "2018-03-26 : 3501\n",
      "2018-03-27 : 3322\n",
      "2018-03-28 : 3250\n",
      "2018-03-29 : 3232\n",
      "2018-03-30 : 3479\n",
      "2018-03-31 : 3306\n",
      "2018-04-01 : 2435\n",
      "2018-04-02 : 3841\n",
      "2018-04-03 : 3642\n",
      "2018-04-04 : 3369\n",
      "2018-04-05 : 2580\n",
      "2018-04-06 : 2932\n",
      "2018-04-07 : 2926\n",
      "2018-04-08 : 2885\n",
      "2018-04-09 : 3109\n",
      "2018-04-10 : 3002\n",
      "2018-04-11 : 2881\n",
      "2018-04-12 : 2920\n",
      "2018-04-13 : 2942\n",
      "2018-04-14 : 2887\n",
      "2018-04-15 : 2306\n",
      "2018-04-16 : 2616\n",
      "2018-04-17 : 2406\n",
      "2018-04-18 : 2454\n",
      "2018-04-19 : 2420\n",
      "2018-04-20 : 2713\n",
      "2018-04-21 : 2855\n",
      "2018-04-22 : 2804\n",
      "2018-04-23 : 2812\n",
      "2018-04-24 : 2953\n",
      "2018-04-25 : 2503\n",
      "2018-04-26 : 2270\n",
      "2018-04-27 : 2285\n",
      "2018-04-28 : 2230\n",
      "2018-04-29 : 2062\n",
      "2018-04-30 : 2161\n",
      "2018-05-01 : 2416\n",
      "2018-05-02 : 2187\n",
      "2018-05-03 : 1849\n",
      "2018-05-04 : 1759\n",
      "2018-05-05 : 1882\n",
      "2018-05-06 : 1799\n",
      "2018-05-07 : 1796\n",
      "2018-05-08 : 1704\n",
      "2018-05-09 : 1639\n",
      "2018-05-10 : 1622\n",
      "2018-05-11 : 1478\n",
      "2018-05-12 : 1293\n",
      "2018-05-13 : 885\n",
      "2018-05-14 : 1224\n",
      "2018-05-15 : 1314\n",
      "2018-05-16 : 1206\n",
      "2018-05-17 : 1206\n",
      "2018-05-18 : 1070\n",
      "2018-05-19 : 916\n",
      "2018-05-20 : 947\n",
      "2018-05-21 : 1096\n",
      "2018-05-22 : 1001\n",
      "2018-05-23 : 1021\n",
      "2018-05-24 : 968\n",
      "2018-05-25 : 977\n",
      "2018-05-26 : 914\n",
      "2018-05-27 : 809\n",
      "2018-05-28 : 832\n",
      "2018-05-29 : 853\n",
      "2018-05-30 : 744\n",
      "2018-05-31 : 681\n",
      "2018-06-01 : 639\n",
      "2018-06-02 : 592\n",
      "2018-06-03 : 570\n",
      "2018-06-04 : 724\n",
      "2018-06-05 : 578\n",
      "2018-06-06 : 556\n",
      "2018-06-07 : 497\n",
      "2018-06-08 : 506\n",
      "2018-06-09 : 465\n",
      "2018-06-10 : 479\n",
      "2018-06-11 : 452\n",
      "2018-06-12 : 454\n",
      "2018-06-13 : 500\n",
      "2018-06-14 : 401\n",
      "2018-06-15 : 390\n",
      "2018-06-16 : 317\n",
      "2018-06-17 : 294\n",
      "2018-06-18 : 355\n",
      "2018-06-19 : 328\n",
      "2018-06-20 : 369\n",
      "2018-06-21 : 323\n",
      "2018-06-22 : 293\n",
      "2018-06-23 : 268\n",
      "2018-06-24 : 271\n",
      "2018-06-25 : 294\n",
      "2018-06-26 : 265\n",
      "2018-06-27 : 272\n",
      "2018-06-28 : 243\n",
      "2018-06-29 : 238\n",
      "2018-06-30 : 227\n",
      "2018-07-01 : 212\n",
      "2018-07-02 : 248\n",
      "2018-07-03 : 231\n",
      "2018-07-04 : 200\n",
      "2018-07-05 : 208\n",
      "2018-07-06 : 213\n",
      "2018-07-07 : 215\n",
      "2018-07-08 : 218\n",
      "2018-07-09 : 247\n",
      "2018-07-10 : 207\n",
      "2018-07-11 : 184\n",
      "2018-07-12 : 214\n",
      "2018-07-13 : 198\n",
      "2018-07-14 : 182\n",
      "2018-07-15 : 199\n",
      "2018-07-16 : 186\n",
      "2018-07-17 : 195\n",
      "2018-07-18 : 204\n",
      "2018-07-19 : 176\n",
      "2018-07-20 : 187\n",
      "2018-07-21 : 186\n",
      "2018-07-22 : 191\n",
      "2018-07-23 : 153\n",
      "2018-07-24 : 188\n",
      "2018-07-25 : 201\n",
      "2018-07-26 : 169\n",
      "2018-07-27 : 169\n",
      "2018-07-28 : 188\n",
      "2018-07-29 : 156\n",
      "2018-07-30 : 221\n",
      "2018-07-31 : 164\n",
      "2018-08-01 : 171\n",
      "2018-08-02 : 201\n",
      "2018-08-03 : 170\n",
      "2018-08-04 : 227\n",
      "2018-08-05 : 199\n",
      "2018-08-06 : 174\n",
      "2018-08-07 : 185\n",
      "2018-08-08 : 215\n",
      "2018-08-09 : 168\n",
      "2018-08-10 : 188\n",
      "2018-08-11 : 198\n",
      "2018-08-12 : 214\n",
      "2018-08-13 : 268\n",
      "2018-08-14 : 253\n",
      "2018-08-15 : 235\n",
      "2018-08-16 : 228\n",
      "2018-08-17 : 197\n",
      "2018-08-18 : 198\n",
      "2018-08-19 : 202\n",
      "2018-08-20 : 211\n",
      "2018-08-21 : 196\n",
      "2018-08-22 : 216\n",
      "2018-08-23 : 221\n",
      "2018-08-24 : 217\n",
      "2018-08-25 : 209\n",
      "2018-08-26 : 221\n",
      "2018-08-27 : 240\n",
      "2018-08-28 : 187\n",
      "2018-08-29 : 238\n",
      "2018-08-30 : 239\n",
      "2018-08-31 : 145\n"
     ]
    }
   ],
   "source": [
    "for EachDay in (MyChart[\"results\"]):\n",
    "    print (EachDay[\"id\"][:10], \":\", EachDay[\"values\"][0][\"value\"])"
   ]
  },
  {
   "cell_type": "code",
   "execution_count": 38,
   "metadata": {},
   "outputs": [],
   "source": [
    "DaysAndVolDict = {}\n",
    "\n",
    "for EachDay in (MyChart[\"results\"]):\n",
    "    DaysAndVolDict[EachDay[\"id\"][:10]] = EachDay[\"values\"][0][\"value\"]"
   ]
  },
  {
   "cell_type": "code",
   "execution_count": 40,
   "metadata": {},
   "outputs": [],
   "source": [
    "# print(DaysAndVolDict)"
   ]
  },
  {
   "cell_type": "code",
   "execution_count": 47,
   "metadata": {},
   "outputs": [],
   "source": [
    "MyDataFrame = pd.DataFrame(DaysAndVolDict, index=[0])\n",
    "#Transpose that dataframe\n",
    "MyTransposedDataFrame = MyDataFrame.T\n",
    "MyTransposedDataFrame.to_excel('ExampleOutput.xls')"
   ]
  },
  {
   "cell_type": "code",
   "execution_count": null,
   "metadata": {},
   "outputs": [],
   "source": []
  },
  {
   "cell_type": "code",
   "execution_count": null,
   "metadata": {},
   "outputs": [],
   "source": []
  },
  {
   "cell_type": "code",
   "execution_count": null,
   "metadata": {},
   "outputs": [],
   "source": []
  },
  {
   "cell_type": "code",
   "execution_count": null,
   "metadata": {},
   "outputs": [],
   "source": []
  },
  {
   "cell_type": "code",
   "execution_count": null,
   "metadata": {},
   "outputs": [],
   "source": []
  },
  {
   "cell_type": "markdown",
   "metadata": {},
   "source": [
    "# Testing and proof of concept area"
   ]
  },
  {
   "cell_type": "markdown",
   "metadata": {},
   "source": [
    "## Reading Excel Workbook and turning that into filters for a chart component"
   ]
  },
  {
   "cell_type": "code",
   "execution_count": null,
   "metadata": {},
   "outputs": [],
   "source": []
  },
  {
   "cell_type": "code",
   "execution_count": null,
   "metadata": {},
   "outputs": [],
   "source": []
  },
  {
   "cell_type": "markdown",
   "metadata": {},
   "source": [
    "## Random stuff"
   ]
  },
  {
   "cell_type": "code",
   "execution_count": 26,
   "metadata": {},
   "outputs": [],
   "source": [
    "def Unpack(FDict):\n",
    "    for key in FDict:\n",
    "        print(key, FDict[key])"
   ]
  },
  {
   "cell_type": "code",
   "execution_count": null,
   "metadata": {},
   "outputs": [],
   "source": []
  },
  {
   "cell_type": "code",
   "execution_count": null,
   "metadata": {},
   "outputs": [],
   "source": []
  },
  {
   "cell_type": "code",
   "execution_count": 27,
   "metadata": {},
   "outputs": [
    {
     "name": "stdout",
     "output_type": "stream",
     "text": [
      "Fname [CBG] Scotch-Brite: Spring Cleaning\n",
      "FstartDate 2017-09-01\n",
      "Fy_axis volume\n",
      "Fx_axis days\n",
      "Fbreakdown_by queries\n"
     ]
    }
   ],
   "source": [
    "#Pass in to ArgsGetChart a dictionary with all the necessary filters\n",
    "TestArgsChart = Unpack({\n",
    "    \"Fname\":\"[CBG] Scotch-Brite: Spring Cleaning\", \n",
    "    \"FstartDate\":ThisQuarterStart, \n",
    "    \"Fy_axis\":\"volume\", \n",
    "    \"Fx_axis\":\"days\", \n",
    "    \"Fbreakdown_by\":\"queries\"})"
   ]
  },
  {
   "cell_type": "code",
   "execution_count": 18,
   "metadata": {},
   "outputs": [],
   "source": [
    "MyChart2 = queries.get_chart(\n",
    "    name=\"[CBG] Scotch-Brite: Spring Cleaning\", \n",
    "    startDate=\"2017-09-01\", \n",
    "    endDate=\"2017-12-01\",\n",
    "    y_axis=\"volume\", \n",
    "    x_axis=\"days\", \n",
    "    breakdown_by=\"queries\",\n",
    "    )\n",
    "\n",
    "# print(MyChart2)"
   ]
  },
  {
   "cell_type": "code",
   "execution_count": null,
   "metadata": {},
   "outputs": [],
   "source": [
    "MyChart2 = queries.get_chart(\n",
    "    if 'name' in mydict\n",
    "    name=mydict['name'], \n",
    "    startDate=mydict['startdate'], \n",
    "    endDate=\"2017-12-01\",\n",
    "    y_axis=\"volume\", \n",
    "    x_axis=\"days\", \n",
    "    breakdown_by=\"queries\",\n",
    "    )\n",
    "\n",
    "# print(MyChart2)"
   ]
  },
  {
   "cell_type": "code",
   "execution_count": 45,
   "metadata": {},
   "outputs": [],
   "source": [
    "# print(MyChart[\"results\"])"
   ]
  },
  {
   "cell_type": "code",
   "execution_count": 46,
   "metadata": {},
   "outputs": [],
   "source": [
    "# for EachDay in (MyChart2[\"results\"]):\n",
    "#     print (EachDay[\"id\"][:10], \":\", EachDay[\"values\"][0][\"value\"])"
   ]
  },
  {
   "cell_type": "code",
   "execution_count": 61,
   "metadata": {},
   "outputs": [
    {
     "ename": "SyntaxError",
     "evalue": "invalid syntax (<ipython-input-61-ae63e697b518>, line 9)",
     "output_type": "error",
     "traceback": [
      "\u001b[0;36m  File \u001b[0;32m\"<ipython-input-61-ae63e697b518>\"\u001b[0;36m, line \u001b[0;32m9\u001b[0m\n\u001b[0;31m    if kwargs.get('tags') == 1:\u001b[0m\n\u001b[0m     ^\u001b[0m\n\u001b[0;31mSyntaxError\u001b[0m\u001b[0;31m:\u001b[0m invalid syntax\n"
     ]
    }
   ],
   "source": [
    "def TestGetChart(**kwargs):\n",
    "    queries.get_chart(\n",
    "    name=kwargs['Fname'], \n",
    "    startDate=kwargs['FstartDate'],\n",
    "    endDate=kwargs['FendDate'], \n",
    "    y_axis=kwargs['Fy_axis'], \n",
    "    x_axis=kwargs['Fx_axis'], \n",
    "    breakdown_by=kwargs['Fbreakdown_by'],\n",
    "    if kwargs.get('tags') == 1:\n",
    "        tags = kwargs['tags'])"
   ]
  },
  {
   "cell_type": "code",
   "execution_count": null,
   "metadata": {},
   "outputs": [],
   "source": []
  },
  {
   "cell_type": "code",
   "execution_count": 60,
   "metadata": {},
   "outputs": [
    {
     "name": "stdout",
     "output_type": "stream",
     "text": [
      "1\n",
      "None\n"
     ]
    }
   ],
   "source": [
    "TestDict = {\"hello\":1, \"goodbye\":1}\n",
    "\n",
    "print( TestDict.get(\"hello\"))\n",
    "print( TestDict.get(\"dsfdsfdfs\"))\n",
    "\n",
    "if TestDict.get('hello') == 1:\n",
    "    print ('hello is present')"
   ]
  },
  {
   "cell_type": "markdown",
   "metadata": {},
   "source": [
    "## Read Excel file with multiple charts and filters"
   ]
  },
  {
   "cell_type": "code",
   "execution_count": 63,
   "metadata": {},
   "outputs": [],
   "source": [
    "FilterInfo = pd.read_excel(\"Filter info.xlsx\")"
   ]
  },
  {
   "cell_type": "code",
   "execution_count": null,
   "metadata": {},
   "outputs": [],
   "source": []
  }
 ],
 "metadata": {
  "kernelspec": {
   "display_name": "Python 3",
   "language": "python",
   "name": "python3"
  },
  "language_info": {
   "codemirror_mode": {
    "name": "ipython",
    "version": 3
   },
   "file_extension": ".py",
   "mimetype": "text/x-python",
   "name": "python",
   "nbconvert_exporter": "python",
   "pygments_lexer": "ipython3",
   "version": "3.6.5"
  }
 },
 "nbformat": 4,
 "nbformat_minor": 2
}
