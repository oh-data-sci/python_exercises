{
 "cells": [
  {
   "cell_type": "markdown",
   "metadata": {},
   "source": [
    "# Project: Audience Analysis"
   ]
  },
  {
   "cell_type": "markdown",
   "metadata": {},
   "source": [
    "In this notebook we'll try to address the question: what can one say about a brand's audience on Twitter?"
   ]
  },
  {
   "cell_type": "code",
   "execution_count": null,
   "metadata": {
    "collapsed": true
   },
   "outputs": [],
   "source": [
    "from bwproject import BWProject\n",
    "from bwresources import BWQueries"
   ]
  },
  {
   "cell_type": "code",
   "execution_count": null,
   "metadata": {
    "collapsed": false
   },
   "outputs": [],
   "source": [
    "project = BWProject(\n",
    "    username = \"\",\n",
    "    password = \"\"\n",
    "    project = \"\",\n",
    ")"
   ]
  },
  {
   "cell_type": "code",
   "execution_count": null,
   "metadata": {
    "collapsed": false
   },
   "outputs": [],
   "source": [
    "queries = BWQueries(project)"
   ]
  },
  {
   "cell_type": "markdown",
   "metadata": {},
   "source": [
    "To start, let's take a brand's Twitter handle:"
   ]
  },
  {
   "cell_type": "code",
   "execution_count": null,
   "metadata": {
    "collapsed": true
   },
   "outputs": [],
   "source": [
    "brand_handle = \"brandwatch\""
   ]
  },
  {
   "cell_type": "markdown",
   "metadata": {},
   "source": [
    "To get a sense of the brand's audience, let's look at everyone engages with them"
   ]
  },
  {
   "cell_type": "code",
   "execution_count": null,
   "metadata": {
    "collapsed": false
   },
   "outputs": [],
   "source": [
    "queries.upload(\n",
    "    name = \"Brand @Mentions\", \n",
    "    includedTerms = brand_handle + \" AND site:twitter AND raw:@\",\n",
    "    backfill_date = \"2016-06-01\"\n",
    ")"
   ]
  },
  {
   "cell_type": "markdown",
   "metadata": {},
   "source": [
    "Now let's download the last few months' worth of data:"
   ]
  },
  {
   "cell_type": "code",
   "execution_count": null,
   "metadata": {
    "collapsed": false
   },
   "outputs": [],
   "source": [
    "mentions = queries.get_mentions(\n",
    "    name = \"Brand @Mentions\",\n",
    "    startDate = \"2016-06-01\",\n",
    "    endDate = \"2016-09-15\"\n",
    ")"
   ]
  },
  {
   "cell_type": "markdown",
   "metadata": {},
   "source": [
    "Sometimes people will retweet a brand and then forget about it forever; to get a real sense of the brand's audience we should look for people who engage regularly (say, at least once per month).  So let's look at engagement on a month-by-month basis:"
   ]
  },
  {
   "cell_type": "code",
   "execution_count": null,
   "metadata": {
    "collapsed": false
   },
   "outputs": [],
   "source": [
    "engagers = {\n",
    "    \"june\": [],\n",
    "    \"july\": [],\n",
    "    \"august\": [],\n",
    "    \"september\": []\n",
    "}\n",
    "\n",
    "for mention in mentions:\n",
    "    if \"2016-06-01\" <= mention[\"date\"] and mention[\"date\"] < \"2016-07-01\":\n",
    "        engagers[\"june\"].append(mention[\"author\"])\n",
    "            \n",
    "    elif \"2016-07-01\" <= mention[\"date\"] and mention[\"date\"] < \"2016-08-01\": \n",
    "        engagers[\"july\"].append(mention[\"author\"])\n",
    "            \n",
    "    elif \"2016-08-01\" <= mention[\"date\"] and mention[\"date\"] < \"2016-09-01\":\n",
    "        engagers[\"august\"].append(mention[\"author\"])\n",
    "            \n",
    "    elif \"2016-09-01\" <= mention[\"date\"] and mention[\"date\"] < \"2016-10-01\":\n",
    "        engagers[\"september\"].append(mention[\"author\"])"
   ]
  },
  {
   "cell_type": "markdown",
   "metadata": {},
   "source": [
    "Now let's build a list of authors who engaged in all four months:"
   ]
  },
  {
   "cell_type": "code",
   "execution_count": null,
   "metadata": {
    "collapsed": true
   },
   "outputs": [],
   "source": [
    "audience = []\n",
    "\n",
    "for mention in mentions:\n",
    "    author = mention[\"author\"]\n",
    "    \n",
    "    if author in engagers[\"june\"] and author in engagers[\"july\"] and author in engagers[\"august\"] and author in engagers[\"september\"]:\n",
    "        if author not in audience:\n",
    "            audience.append(author)"
   ]
  },
  {
   "cell_type": "code",
   "execution_count": null,
   "metadata": {
    "collapsed": false
   },
   "outputs": [],
   "source": [
    "len(audience)"
   ]
  },
  {
   "cell_type": "markdown",
   "metadata": {},
   "source": [
    "Finally, we'll create a query searching for tweets authored by members of the audience:"
   ]
  },
  {
   "cell_type": "code",
   "execution_count": null,
   "metadata": {
    "collapsed": false
   },
   "outputs": [],
   "source": [
    "query_string = \"site:twitter and author:(\"\n",
    "\n",
    "for author in audience[:-1]:\n",
    "    query_string += author + \" OR \"\n",
    "\n",
    "query_string += audience[-1] + \")\""
   ]
  },
  {
   "cell_type": "code",
   "execution_count": null,
   "metadata": {
    "collapsed": false
   },
   "outputs": [],
   "source": [
    "queries.upload(\n",
    "    name = \"Brand Audience\",\n",
    "    includedTerms = query_string,\n",
    "    backfill_date = \"2016-06-01\"\n",
    ")"
   ]
  },
  {
   "cell_type": "markdown",
   "metadata": {},
   "source": [
    "Now we can look at what the audience is talking about in the Brandwatch platform!"
   ]
  },
  {
   "cell_type": "code",
   "execution_count": null,
   "metadata": {
    "collapsed": true
   },
   "outputs": [],
   "source": []
  }
 ],
 "metadata": {
  "kernelspec": {
   "display_name": "Python 3",
   "language": "python",
   "name": "python3"
  },
  "language_info": {
   "codemirror_mode": {
    "name": "ipython",
    "version": 3
   },
   "file_extension": ".py",
   "mimetype": "text/x-python",
   "name": "python",
   "nbconvert_exporter": "python",
   "pygments_lexer": "ipython3",
   "version": "3.4.3"
  }
 },
 "nbformat": 4,
 "nbformat_minor": 0
}
