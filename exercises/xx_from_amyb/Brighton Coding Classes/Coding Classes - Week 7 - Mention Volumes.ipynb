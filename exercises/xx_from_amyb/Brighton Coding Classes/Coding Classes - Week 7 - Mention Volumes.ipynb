{
 "cells": [
  {
   "cell_type": "code",
   "execution_count": 3,
   "metadata": {
    "collapsed": false
   },
   "outputs": [],
   "source": [
    "from bwresources import BWQueries\n",
    "from bwproject import BWProject"
   ]
  },
  {
   "cell_type": "code",
   "execution_count": 5,
   "metadata": {
    "collapsed": false
   },
   "outputs": [
    {
     "name": "stdout",
     "output_type": "stream",
     "text": [
      "https://newapi.brandwatch.com/projects?access_token=45a8316b-0811-4d32-a883-d7a77bdb0fab\n"
     ]
    }
   ],
   "source": [
    "project = BWProject(\n",
    "    username = \"\",\n",
    "    password = \"\",\n",
    "    project = \"\",\n",
    "    token_path = None\n",
    ")"
   ]
  },
  {
   "cell_type": "code",
   "execution_count": 6,
   "metadata": {
    "collapsed": false
   },
   "outputs": [
    {
     "name": "stdout",
     "output_type": "stream",
     "text": [
      "https://newapi.brandwatch.com/projects/1998189791/queries?access_token=45a8316b-0811-4d32-a883-d7a77bdb0fab\n",
      "https://newapi.brandwatch.com/projects/1998189791/tags?access_token=45a8316b-0811-4d32-a883-d7a77bdb0fab\n",
      "https://newapi.brandwatch.com/projects/1998189791/categories?access_token=45a8316b-0811-4d32-a883-d7a77bdb0fab\n"
     ]
    }
   ],
   "source": [
    "queries = BWQueries(project)"
   ]
  },
  {
   "cell_type": "code",
   "execution_count": 17,
   "metadata": {
    "collapsed": false
   },
   "outputs": [
    {
     "name": "stdout",
     "output_type": "stream",
     "text": [
      "https://newapi.brandwatch.com/projects/1998189791/data/mentions/count?name=Breaking+News&access_token=45a8316b-0811-4d32-a883-d7a77bdb0fab&queryId=1998567750&pageSize=5000&page=0&endDate=2016-07-01&startDate=2016-06-01\n",
      "https://newapi.brandwatch.com/projects/1998189791/data/mentions/count?name=Breaking+News&access_token=45a8316b-0811-4d32-a883-d7a77bdb0fab&queryId=1998567750&pageSize=5000&page=0&endDate=2016-08-01&startDate=2016-07-01\n",
      "https://newapi.brandwatch.com/projects/1998189791/data/mentions/count?name=Breaking+News&access_token=45a8316b-0811-4d32-a883-d7a77bdb0fab&queryId=1998567750&pageSize=5000&page=0&endDate=2016-09-01&startDate=2016-08-01\n"
     ]
    }
   ],
   "source": [
    "mention_counts = {}\n",
    "\n",
    "mention_counts[\"june\"] = queries.num_mentions(\n",
    "    name = \"Breaking News\", \n",
    "    startDate = \"2016-06-01\",\n",
    "    endDate = \"2016-07-01\"\n",
    ")[\"mentionsCount\"]\n",
    "\n",
    "mention_counts[\"july\"] = queries.num_mentions(\n",
    "    name = \"Breaking News\", \n",
    "    startDate = \"2016-07-01\",\n",
    "    endDate = \"2016-08-01\"\n",
    ")[\"mentionsCount\"]\n",
    "\n",
    "mention_counts[\"august\"] = queries.num_mentions(\n",
    "    name = \"Breaking News\", \n",
    "    startDate = \"2016-08-01\",\n",
    "    endDate = \"2016-09-01\"\n",
    ")[\"mentionsCount\"]"
   ]
  },
  {
   "cell_type": "code",
   "execution_count": 18,
   "metadata": {
    "collapsed": false
   },
   "outputs": [
    {
     "name": "stdout",
     "output_type": "stream",
     "text": [
      "{'august': 484713, 'june': 506704, 'july': 719184}\n"
     ]
    }
   ],
   "source": [
    "print(mention_counts)"
   ]
  },
  {
   "cell_type": "code",
   "execution_count": 22,
   "metadata": {
    "collapsed": true
   },
   "outputs": [],
   "source": [
    "volume_data = []\n",
    "\n",
    "volume_data.append({\n",
    "        \"month\": \"june\",\n",
    "        \"count\": mention_counts[\"june\"],\n",
    "        \"percent_increase\": 100\n",
    "    })"
   ]
  },
  {
   "cell_type": "code",
   "execution_count": 23,
   "metadata": {
    "collapsed": true
   },
   "outputs": [],
   "source": [
    "volume_data.append({\n",
    "        \"month\": \"july\",\n",
    "        \"count\": mention_counts[\"july\"],\n",
    "        \"percent_increase\": (mention_counts[\"july\"] - mention_counts[\"june\"])/mention_counts[\"june\"] * 100   \n",
    "    })"
   ]
  },
  {
   "cell_type": "code",
   "execution_count": 24,
   "metadata": {
    "collapsed": true
   },
   "outputs": [],
   "source": [
    "volume_data.append({\n",
    "        \"month\": \"august\",\n",
    "        \"count\": mention_counts[\"august\"],\n",
    "        \"percent_increase\": (mention_counts[\"august\"] - mention_counts[\"july\"])/mention_counts[\"july\"] * 100   \n",
    "    })"
   ]
  },
  {
   "cell_type": "code",
   "execution_count": 25,
   "metadata": {
    "collapsed": false
   },
   "outputs": [
    {
     "name": "stdout",
     "output_type": "stream",
     "text": [
      "[{'count': 506704, 'percent_increase': 100, 'month': 'june'}, {'count': 719184, 'percent_increase': 41.93375224983422, 'month': 'july'}, {'count': 484713, 'percent_increase': -32.602366014816795, 'month': 'august'}]\n"
     ]
    }
   ],
   "source": [
    "print(volume_data)"
   ]
  },
  {
   "cell_type": "code",
   "execution_count": null,
   "metadata": {
    "collapsed": true
   },
   "outputs": [],
   "source": []
  }
 ],
 "metadata": {
  "kernelspec": {
   "display_name": "Python 3",
   "language": "python",
   "name": "python3"
  },
  "language_info": {
   "codemirror_mode": {
    "name": "ipython",
    "version": 3
   },
   "file_extension": ".py",
   "mimetype": "text/x-python",
   "name": "python",
   "nbconvert_exporter": "python",
   "pygments_lexer": "ipython3",
   "version": "3.5.2"
  }
 },
 "nbformat": 4,
 "nbformat_minor": 0
}
